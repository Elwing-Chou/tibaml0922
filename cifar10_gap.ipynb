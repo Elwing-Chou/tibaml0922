{
  "nbformat": 4,
  "nbformat_minor": 0,
  "metadata": {
    "colab": {
      "name": "cifar10_gap.ipynb",
      "provenance": [],
      "authorship_tag": "ABX9TyOVzYunHxYw0NK8AGYzq4OU",
      "include_colab_link": true
    },
    "kernelspec": {
      "name": "python3",
      "display_name": "Python 3"
    },
    "language_info": {
      "name": "python"
    },
    "accelerator": "GPU"
  },
  "cells": [
    {
      "cell_type": "markdown",
      "metadata": {
        "id": "view-in-github",
        "colab_type": "text"
      },
      "source": [
        "<a href=\"https://colab.research.google.com/github/Elwing-Chou/tibaml0922/blob/main/cifar10_gap.ipynb\" target=\"_parent\"><img src=\"https://colab.research.google.com/assets/colab-badge.svg\" alt=\"Open In Colab\"/></a>"
      ]
    },
    {
      "cell_type": "code",
      "metadata": {
        "id": "9twG7jyA7Hqy"
      },
      "source": [
        "from tensorflow.keras.datasets.cifar10 import load_data\n",
        "(x_train, y_train), (x_test, y_test) = load_data()"
      ],
      "execution_count": 16,
      "outputs": []
    },
    {
      "cell_type": "code",
      "metadata": {
        "colab": {
          "base_uri": "https://localhost:8080/"
        },
        "id": "kHoWWWip7hCI",
        "outputId": "c6b43bae-5756-4284-ceae-b9c39760f499"
      },
      "source": [
        "print(x_train.shape)\n",
        "print(y_train.shape)\n",
        "print(x_test.shape)\n",
        "print(y_test.shape)"
      ],
      "execution_count": 17,
      "outputs": [
        {
          "output_type": "stream",
          "name": "stdout",
          "text": [
            "(50000, 32, 32, 3)\n",
            "(50000, 1)\n",
            "(10000, 32, 32, 3)\n",
            "(10000, 1)\n"
          ]
        }
      ]
    },
    {
      "cell_type": "code",
      "metadata": {
        "colab": {
          "base_uri": "https://localhost:8080/"
        },
        "id": "bpiCeu8C8YIG",
        "outputId": "fe18951c-89d7-4175-8113-2c347c6b3670"
      },
      "source": [
        "# mnist(60000, ): [3, 1, 4, 5]\n",
        "# cifar10(50000, 1): [[3], [1], [4], [5]]\n",
        "y_train"
      ],
      "execution_count": 18,
      "outputs": [
        {
          "output_type": "execute_result",
          "data": {
            "text/plain": [
              "array([[6],\n",
              "       [9],\n",
              "       [9],\n",
              "       ...,\n",
              "       [9],\n",
              "       [1],\n",
              "       [1]], dtype=uint8)"
            ]
          },
          "metadata": {},
          "execution_count": 18
        }
      ]
    },
    {
      "cell_type": "code",
      "metadata": {
        "id": "dEtkGx4M-pmA"
      },
      "source": [
        "trans = [    \n",
        "    \"airplane\",\t\t\t\t\t\t\t\t\t\t\n",
        "    \"automobile\",\t\t\t\t\t\t\t\t\t\t\n",
        "    \"bird\",\t\t\t\t\t\t\t\t\t\t\n",
        "    \"cat\",\t\t\t\t\t\t\t\t\t\t\n",
        "    \"deer\",\t\t\t\t\t\t\t\t\t\t\n",
        "    \"dog\",\t\t\t\t\t\t\t\t\t\t\n",
        "    \"frog\",\t\t\t\t\t\t\t\t\t\t\n",
        "    \"horse\",\t\t\t\t\t\t\t\t\t\t\n",
        "    \"ship\",\t\t\t\t\t\t\t\t\t\t\n",
        "    \"truck\",\n",
        "]"
      ],
      "execution_count": 19,
      "outputs": []
    },
    {
      "cell_type": "code",
      "metadata": {
        "colab": {
          "base_uri": "https://localhost:8080/",
          "height": 302
        },
        "id": "M9BUjSzV_dkc",
        "outputId": "06e03ea5-6880-4890-ded4-5f09ddae991f"
      },
      "source": [
        "import matplotlib.pyplot as plt\n",
        "idx = 2000\n",
        "print(trans[y_train[idx][0]])\n",
        "plt.imshow(x_train[idx])"
      ],
      "execution_count": 20,
      "outputs": [
        {
          "output_type": "stream",
          "name": "stdout",
          "text": [
            "horse\n"
          ]
        },
        {
          "output_type": "execute_result",
          "data": {
            "text/plain": [
              "<matplotlib.image.AxesImage at 0x7f341c8a1c10>"
            ]
          },
          "metadata": {},
          "execution_count": 20
        },
        {
          "output_type": "display_data",
          "data": {
            "image/png": "[encoded data removed]",
            "text/plain": [
              "<Figure size 432x288 with 1 Axes>"
            ]
          },
          "metadata": {
            "needs_background": "light"
          }
        }
      ]
    },
    {
      "cell_type": "code",
      "metadata": {
        "id": "E5mguZivBI49",
        "colab": {
          "base_uri": "https://localhost:8080/"
        },
        "outputId": "f416151a-3952-4a53-dfbe-cd80277b61ce"
      },
      "source": [
        "from tensorflow.keras.models import Sequential\n",
        "from tensorflow.keras.layers import Conv2D, MaxPooling2D, GlobalAveragePooling2D\n",
        "from tensorflow.keras.layers import Dense, Flatten, Dropout\n",
        "layers = [\n",
        "    # 一個filter: 3(kh) * 3(kw) * 3(last channel) + 1(bias) = 28. \n",
        "    # 28 * 64 = 1792 \n",
        "    Conv2D(64, 3, padding=\"same\", activation=\"relu\", input_shape=(32, 32, 3)),\n",
        "    # 一個filter: 3 * 3 * 64 + 1(bias) = 577\n",
        "    # 128 * 577 = 73856\n",
        "    MaxPooling2D(),\n",
        "    Conv2D(128, 3, padding=\"same\", activation=\"relu\"),\n",
        "    MaxPooling2D(),\n",
        "    Conv2D(256, 3, padding=\"same\", activation=\"relu\"),\n",
        "    MaxPooling2D(),\n",
        "    Conv2D(512, 3, padding=\"same\", activation=\"relu\"),\n",
        "    GlobalAveragePooling2D(),\n",
        "    Dense(10, activation=\"softmax\")\n",
        "]\n",
        "model = Sequential(layers)\n",
        "model.summary()"
      ],
      "execution_count": 21,
      "outputs": [
        {
          "output_type": "stream",
          "name": "stdout",
          "text": [
            "Model: \"sequential_3\"\n",
            "_________________________________________________________________\n",
            "Layer (type)                 Output Shape              Param #   \n",
            "=================================================================\n",
            "conv2d_9 (Conv2D)            (None, 32, 32, 64)        1792      \n",
            "_________________________________________________________________\n",
            "max_pooling2d_6 (MaxPooling2 (None, 16, 16, 64)        0         \n",
            "_________________________________________________________________\n",
            "conv2d_10 (Conv2D)           (None, 16, 16, 128)       73856     \n",
            "_________________________________________________________________\n",
            "max_pooling2d_7 (MaxPooling2 (None, 8, 8, 128)         0         \n",
            "_________________________________________________________________\n",
            "conv2d_11 (Conv2D)           (None, 8, 8, 256)         295168    \n",
            "_________________________________________________________________\n",
            "max_pooling2d_8 (MaxPooling2 (None, 4, 4, 256)         0         \n",
            "_________________________________________________________________\n",
            "conv2d_12 (Conv2D)           (None, 4, 4, 512)         1180160   \n",
            "_________________________________________________________________\n",
            "global_average_pooling2d_3 ( (None, 512)               0         \n",
            "_________________________________________________________________\n",
            "dense_3 (Dense)              (None, 10)                5130      \n",
            "=================================================================\n",
            "Total params: 1,556,106\n",
            "Trainable params: 1,556,106\n",
            "Non-trainable params: 0\n",
            "_________________________________________________________________\n"
          ]
        }
      ]
    },
    {
      "cell_type": "code",
      "metadata": {
        "id": "tcsjBNKANJdi"
      },
      "source": [
        "# y: 做one-hot encoding很耗費ram, 直接使用Sparse省RAM又方便\n",
        "from tensorflow.keras.losses import SparseCategoricalCrossentropy\n",
        "model.compile(loss=SparseCategoricalCrossentropy(),\n",
        "              optimizer=\"adam\",\n",
        "              metrics=[\"accuracy\"])"
      ],
      "execution_count": 22,
      "outputs": []
    },
    {
      "cell_type": "code",
      "metadata": {
        "id": "e4MBC_0rO2AR"
      },
      "source": [
        "x_train_norm = x_train / 255.0\n",
        "x_test_norm = x_test / 255.0 "
      ],
      "execution_count": 23,
      "outputs": []
    },
    {
      "cell_type": "code",
      "metadata": {
        "colab": {
          "base_uri": "https://localhost:8080/"
        },
        "id": "u_p5rJbePggg",
        "outputId": "dc79beab-098b-45df-bb19-55656c959dbd"
      },
      "source": [
        "# batch_size: 看多少筆資料調整一次梯度(10-200)\n",
        "# = 200: 54000(訓練資料) / 200 -> 270(次)梯度調整\n",
        "# epochs: 54000筆看幾次\n",
        "# = 10: 270 * 10 (次) 梯度調整\n",
        "# validation_split: 0.1\n",
        "# verbose: 1(進度條) 0(啥都沒) 2(不會有進度條)\n",
        "from tensorflow.keras.callbacks import EarlyStopping, ModelCheckpoint\n",
        "callbacks = [\n",
        "    EarlyStopping(patience=5, restore_best_weights=True),\n",
        "    ModelCheckpoint(\"cifar10.h5\", save_best_only=True)\n",
        "]\n",
        "model.fit(x_train_norm,\n",
        "          y_train,\n",
        "          batch_size=200,\n",
        "          epochs=100,\n",
        "          validation_split=0.1,\n",
        "          verbose=2,\n",
        "          callbacks=callbacks)"
      ],
      "execution_count": 24,
      "outputs": [
        {
          "output_type": "stream",
          "name": "stdout",
          "text": [
            "Epoch 1/100\n",
            "225/225 - 9s - loss: 1.7214 - accuracy: 0.3563 - val_loss: 1.4235 - val_accuracy: 0.4794\n",
            "Epoch 2/100\n",
            "225/225 - 8s - loss: 1.3339 - accuracy: 0.5155 - val_loss: 1.2072 - val_accuracy: 0.5642\n",
            "Epoch 3/100\n",
            "225/225 - 8s - loss: 1.1556 - accuracy: 0.5846 - val_loss: 1.0956 - val_accuracy: 0.6094\n",
            "Epoch 4/100\n",
            "225/225 - 8s - loss: 1.0142 - accuracy: 0.6390 - val_loss: 1.0344 - val_accuracy: 0.6276\n",
            "Epoch 5/100\n",
            "225/225 - 8s - loss: 0.9119 - accuracy: 0.6772 - val_loss: 0.9040 - val_accuracy: 0.6870\n",
            "Epoch 6/100\n",
            "225/225 - 8s - loss: 0.8291 - accuracy: 0.7099 - val_loss: 0.8106 - val_accuracy: 0.7178\n",
            "Epoch 7/100\n",
            "225/225 - 8s - loss: 0.7542 - accuracy: 0.7355 - val_loss: 0.7446 - val_accuracy: 0.7410\n",
            "Epoch 8/100\n",
            "225/225 - 8s - loss: 0.6977 - accuracy: 0.7550 - val_loss: 0.7447 - val_accuracy: 0.7428\n",
            "Epoch 9/100\n",
            "225/225 - 8s - loss: 0.6461 - accuracy: 0.7742 - val_loss: 0.7340 - val_accuracy: 0.7452\n",
            "Epoch 10/100\n",
            "225/225 - 8s - loss: 0.6004 - accuracy: 0.7896 - val_loss: 0.6891 - val_accuracy: 0.7646\n",
            "Epoch 11/100\n",
            "225/225 - 8s - loss: 0.5563 - accuracy: 0.8047 - val_loss: 0.7078 - val_accuracy: 0.7530\n",
            "Epoch 12/100\n",
            "225/225 - 8s - loss: 0.5100 - accuracy: 0.8218 - val_loss: 0.7215 - val_accuracy: 0.7536\n",
            "Epoch 13/100\n",
            "225/225 - 8s - loss: 0.4739 - accuracy: 0.8339 - val_loss: 0.6748 - val_accuracy: 0.7742\n",
            "Epoch 14/100\n",
            "225/225 - 8s - loss: 0.4290 - accuracy: 0.8508 - val_loss: 0.6348 - val_accuracy: 0.7870\n",
            "Epoch 15/100\n",
            "225/225 - 8s - loss: 0.3964 - accuracy: 0.8617 - val_loss: 0.6201 - val_accuracy: 0.7918\n",
            "Epoch 16/100\n",
            "225/225 - 8s - loss: 0.3585 - accuracy: 0.8754 - val_loss: 0.6598 - val_accuracy: 0.7896\n",
            "Epoch 17/100\n",
            "225/225 - 8s - loss: 0.3228 - accuracy: 0.8878 - val_loss: 0.6265 - val_accuracy: 0.7988\n",
            "Epoch 18/100\n",
            "225/225 - 8s - loss: 0.2944 - accuracy: 0.8980 - val_loss: 0.6982 - val_accuracy: 0.7882\n",
            "Epoch 19/100\n",
            "225/225 - 8s - loss: 0.2558 - accuracy: 0.9120 - val_loss: 0.7010 - val_accuracy: 0.7966\n",
            "Epoch 20/100\n",
            "225/225 - 8s - loss: 0.2277 - accuracy: 0.9197 - val_loss: 0.7440 - val_accuracy: 0.7892\n"
          ]
        },
        {
          "output_type": "execute_result",
          "data": {
            "text/plain": [
              "<keras.callbacks.History at 0x7f341c8d5490>"
            ]
          },
          "metadata": {},
          "execution_count": 24
        }
      ]
    },
    {
      "cell_type": "code",
      "metadata": {
        "id": "N-_q1YpmQg-B"
      },
      "source": [
        "model.evaluate(x_test_norm, y_test)"
      ],
      "execution_count": null,
      "outputs": []
    },
    {
      "cell_type": "code",
      "metadata": {
        "id": "mVyuyvaHVSbZ"
      },
      "source": [
        "proba = model.predict(x_test_norm)\n",
        "pre = proba.argmax(axis=1)\n",
        "print(pre.shape)\n",
        "print(y_test.shape)\n",
        "y_test_1d = y_test.reshape(10000)\n",
        "print(y_test_1d.shape)"
      ],
      "execution_count": null,
      "outputs": []
    },
    {
      "cell_type": "code",
      "metadata": {
        "id": "X-Fy8cjzVGzq"
      },
      "source": [
        "import pandas as pd\n",
        "from sklearn.metrics import confusion_matrix\n",
        "# tf: predict -> sklearn: predict_proba\n",
        "# axis: 0(縱) 1(橫)\n",
        "mat = confusion_matrix(y_test_1d, pre)\n",
        "pd.DataFrame(mat,\n",
        "             index=[\"{}(正確)\".format(trans[i]) for i in range(10)],\n",
        "             columns=[\"{}(預測)\".format(trans[i]) for i in range(10)])"
      ],
      "execution_count": null,
      "outputs": []
    },
    {
      "cell_type": "code",
      "metadata": {
        "id": "Lw7Q4N7QWL1Z"
      },
      "source": [
        "import numpy as np\n",
        "idx = np.nonzero(pre != y_test_1d)[0]\n",
        "idx = idx[:200]\n",
        "pre_false_img = x_test[idx]\n",
        "pre_false_val = pre[idx]\n",
        "pre_false_ori = y_test_1d[idx]\n",
        "\n",
        "plt.figure(figsize=(15, 45))\n",
        "width = 10\n",
        "height = len(idx) // width + 1\n",
        "for i in range(len(idx)):\n",
        "    plt.subplot(height, width, i+1)\n",
        "    t = \"[O]:{}\\n[P]:{}\".format(trans[pre_false_ori[i]],\n",
        "                                trans[pre_false_val[i]])\n",
        "    plt.title(t)\n",
        "    plt.axis(\"off\")\n",
        "    plt.imshow(pre_false_img[i])"
      ],
      "execution_count": null,
      "outputs": []
    }
  ]
}