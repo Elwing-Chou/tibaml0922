{
  "nbformat": 4,
  "nbformat_minor": 0,
  "metadata": {
    "colab": {
      "name": "cluster.ipynb",
      "provenance": [],
      "authorship_tag": "ABX9TyO91QLigw2vpXEr5RbnNrQd",
      "include_colab_link": true
    },
    "kernelspec": {
      "name": "python3",
      "display_name": "Python 3"
    },
    "language_info": {
      "name": "python"
    }
  },
  "cells": [
    {
      "cell_type": "markdown",
      "metadata": {
        "id": "view-in-github",
        "colab_type": "text"
      },
      "source": [
        "<a href=\"https://colab.research.google.com/github/Elwing-Chou/tibaml0922/blob/main/cluster.ipynb\" target=\"_parent\"><img src=\"https://colab.research.google.com/assets/colab-badge.svg\" alt=\"Open In Colab\"/></a>"
      ]
    },
    {
      "cell_type": "code",
      "metadata": {
        "id": "VL-eBUlAgKFy"
      },
      "source": [
        "import pandas as pd\n",
        "from sklearn.datasets import load_iris\n",
        "iris = load_iris()\n",
        "df = pd.DataFrame(iris[\"data\"], columns=iris[\"feature_names\"])\n",
        "# Series: df[\"sepal length (cm)\"]\n",
        "df"
      ],
      "execution_count": null,
      "outputs": []
    },
    {
      "cell_type": "code",
      "metadata": {
        "colab": {
          "base_uri": "https://localhost:8080/"
        },
        "id": "atlqzYeeLani",
        "outputId": "d95aa1bc-d734-4df2-8f33-83e3ff608017"
      },
      "source": [
        "import numpy as np\n",
        "from sklearn.cluster import KMeans\n",
        "cluster = KMeans(n_clusters=3)\n",
        "cluster.fit(np.array(iris[\"data\"]))"
      ],
      "execution_count": 6,
      "outputs": [
        {
          "output_type": "execute_result",
          "data": {
            "text/plain": [
              "KMeans(algorithm='auto', copy_x=True, init='k-means++', max_iter=300,\n",
              "       n_clusters=3, n_init=10, n_jobs=None, precompute_distances='auto',\n",
              "       random_state=None, tol=0.0001, verbose=0)"
            ]
          },
          "metadata": {},
          "execution_count": 6
        }
      ]
    },
    {
      "cell_type": "code",
      "metadata": {
        "id": "hilR8ormMSU3"
      },
      "source": [
        "labels = cluster.labels_\n",
        "df[\"label\"] = labels\n",
        "df"
      ],
      "execution_count": null,
      "outputs": []
    },
    {
      "cell_type": "code",
      "metadata": {
        "colab": {
          "base_uri": "https://localhost:8080/"
        },
        "id": "y0-nZ5LoM1E4",
        "outputId": "baaa2250-cf96-47bf-fd61-113a4a4f199b"
      },
      "source": [
        "cluster.cluster_centers_"
      ],
      "execution_count": 5,
      "outputs": [
        {
          "output_type": "execute_result",
          "data": {
            "text/plain": [
              "array([[5.006     , 3.428     , 1.462     , 0.246     ],\n",
              "       [5.9016129 , 2.7483871 , 4.39354839, 1.43387097],\n",
              "       [6.85      , 3.07368421, 5.74210526, 2.07105263]])"
            ]
          },
          "metadata": {},
          "execution_count": 5
        }
      ]
    },
    {
      "cell_type": "code",
      "metadata": {
        "colab": {
          "base_uri": "https://localhost:8080/"
        },
        "id": "IyStrXzPYtOO",
        "outputId": "29ef5307-4ec1-4491-dd5b-37beb25a7c8a"
      },
      "source": [
        "from sklearn.metrics import silhouette_score\n",
        "for testk in range(2, 10):\n",
        "    cluster = KMeans(n_clusters=testk)\n",
        "    cluster.fit(iris[\"data\"])\n",
        "    score = silhouette_score(iris[\"data\"], cluster.labels_)\n",
        "    print(testk, score)"
      ],
      "execution_count": 8,
      "outputs": [
        {
          "output_type": "stream",
          "name": "stdout",
          "text": [
            "2 0.681046169211746\n",
            "3 0.5528190123564091\n",
            "4 0.4980505049972867\n",
            "5 0.4887488870931048\n",
            "6 0.3648340039670018\n",
            "7 0.3542978877198838\n",
            "8 0.3477684961693679\n",
            "9 0.34017698991449646\n"
          ]
        }
      ]
    }
  ]
}