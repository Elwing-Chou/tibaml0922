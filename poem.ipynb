{
  "nbformat": 4,
  "nbformat_minor": 0,
  "metadata": {
    "colab": {
      "name": "poem.ipynb",
      "provenance": [],
      "authorship_tag": "ABX9TyMI4A6eJDO6EM2EnENIS1Tq",
      "include_colab_link": true
    },
    "kernelspec": {
      "name": "python3",
      "display_name": "Python 3"
    },
    "language_info": {
      "name": "python"
    }
  },
  "cells": [
    {
      "cell_type": "markdown",
      "metadata": {
        "id": "view-in-github",
        "colab_type": "text"
      },
      "source": [
        "<a href=\"https://colab.research.google.com/github/Elwing-Chou/tibaml0922/blob/main/poem.ipynb\" target=\"_parent\"><img src=\"https://colab.research.google.com/assets/colab-badge.svg\" alt=\"Open In Colab\"/></a>"
      ]
    },
    {
      "cell_type": "code",
      "metadata": {
        "colab": {
          "base_uri": "https://localhost:8080/"
        },
        "id": "a0Cczs34V97Z",
        "outputId": "c9b862f1-f9c6-4e24-9d72-be2de67a9132"
      },
      "source": [
        "from urllib.request import urlretrieve\n",
        "url = \"https://github.com/Elwing-Chou/tibaml0922/raw/main/poem_train.csv\"\n",
        "urlretrieve(url, \"train.csv\")\n",
        "url = \"https://github.com/Elwing-Chou/tibaml0922/raw/main/poem_test.csv\"\n",
        "urlretrieve(url, \"test.csv\")"
      ],
      "execution_count": 1,
      "outputs": [
        {
          "output_type": "execute_result",
          "data": {
            "text/plain": [
              "('test.csv', <http.client.HTTPMessage at 0x7f52b6debd50>)"
            ]
          },
          "metadata": {},
          "execution_count": 1
        }
      ]
    },
    {
      "cell_type": "code",
      "metadata": {
        "id": "_NVUO06jWpAv"
      },
      "source": [
        "import pandas as pd\n",
        "train_df = pd.read_csv(\"train.csv\", encoding=\"utf-8\")\n",
        "test_df = pd.read_csv(\"test.csv\", encoding=\"utf-8\")"
      ],
      "execution_count": 2,
      "outputs": []
    },
    {
      "cell_type": "code",
      "metadata": {
        "colab": {
          "base_uri": "https://localhost:8080/"
        },
        "id": "eGkbLlU5sYvk",
        "outputId": "28d44f27-6169-4970-a194-cd0df3949766"
      },
      "source": [
        "import numpy as np\n",
        "# y: 0, 1, 2...\n",
        "# Series.replace({\"李白\":0, ...})\n",
        "# Series.unique()/Series.value_counts()\n",
        "artists = train_df[\"作者\"].unique()\n",
        "# artist2idx = {}\n",
        "# for i, a in enumerate(artists):\n",
        "#    artist2idx[a] = i\n",
        "artist2idx = {a:i for i, a in enumerate(artists)}\n",
        "idx2artist = {i:a for i, a in enumerate(artists)}\n",
        "y_train = np.array(train_df[\"作者\"].replace(artist2idx))\n",
        "y_test = np.array(test_df[\"作者\"].replace(artist2idx))\n",
        "y_test"
      ],
      "execution_count": 3,
      "outputs": [
        {
          "output_type": "execute_result",
          "data": {
            "text/plain": [
              "array([0, 0, 0, 0, 0, 0, 0, 0, 0, 0, 1, 1, 1, 1, 1, 1, 1, 1, 1, 1, 2, 2,\n",
              "       2, 2, 2, 2, 2, 2, 2, 2])"
            ]
          },
          "metadata": {},
          "execution_count": 3
        }
      ]
    },
    {
      "cell_type": "code",
      "metadata": {
        "colab": {
          "base_uri": "https://localhost:8080/"
        },
        "id": "GCIds_yPwirL",
        "outputId": "b5948020-cab1-4181-852b-4a2b8b21ec94"
      },
      "source": [
        "import jieba\n",
        "# 因為古詩, 我才沒載入大辭典\n",
        "# Series.apply(函式名字)\n",
        "def poemcut(p):\n",
        "    return \" \".join(jieba.cut(p))\n",
        "x_train_cut = train_df[\"內容\"].apply(poemcut)\n",
        "x_test_cut = test_df[\"內容\"].apply(poemcut)\n",
        "x_train_cut"
      ],
      "execution_count": 4,
      "outputs": [
        {
          "output_type": "stream",
          "name": "stderr",
          "text": [
            "Building prefix dict from the default dictionary ...\n",
            "Dumping model to file cache /tmp/jieba.cache\n",
            "Loading model cost 0.987 seconds.\n",
            "Prefix dict has been built successfully.\n"
          ]
        },
        {
          "output_type": "execute_result",
          "data": {
            "text/plain": [
              "0       平林 漠漠 煙如織 ， 寒山 一帶 傷心 碧 。 \\r\\n 暝 色入 高樓 ， 有人 樓上 ...\n",
              "1       青天 有 月 來 幾時 ， 我今 停杯 一問 之 ： 人攀 明月 不可 得 ， 月行 卻 與...\n",
              "2       燕草 如碧絲 ， 秦桑低 綠枝 。 當君 懷歸日 ， 是 妾 斷腸時 。 春風 不 相識 ，...\n",
              "3       誰 家玉笛 暗飛聲 ， 散 入春 風滿 洛城 。 此 夜曲 中聞折 柳 ， 何人 不起 故園情 。\n",
              "4       西上 蓮 花山 ， 迢迢 見 明星 。 ( 西 上   一作 ： 西 嶽 ) 素 手把 芙蓉...\n",
              "                              ...                        \n",
              "2726    零落 桐葉雨 ， 蕭條 槿 花風 。 悠悠 早 秋意 ， 生此 幽閒 中 。 況 與 故人 ...\n",
              "2727    離離 暑雲散 ， 嫋嫋 涼風起 。 池上 秋 又 來 ， 荷花 半成 子 。 朱顏易銷 歇 ...\n",
              "2728    涼風 冷露 蕭索天 ， 黃 蒿 紫菊荒 涼田 。 繞 塚 秋花少 顏色 ， 細蟲 小蝶飛 翻...\n",
              "2729    往歲 曾 為 西邑吏 ， 慣 從 駱口 到 南秦 。 \\r\\n 三時 雲冷多 飛雪 ， 二月...\n",
              "2730    笛 竹出 蘄 春 ， 霜刀 劈翠筠 。 織成 雙鎖 簟 ， 寄 與 獨眠 人 。 卷作筒 中...\n",
              "Name: 內容, Length: 2731, dtype: object"
            ]
          },
          "metadata": {},
          "execution_count": 4
        }
      ]
    },
    {
      "cell_type": "code",
      "metadata": {
        "id": "pIeIsbXXzpSt"
      },
      "source": [
        "from sklearn.feature_extraction.text import CountVectorizer\n",
        "vec = CountVectorizer()\n",
        "x_train_count = vec.fit_transform(x_train_cut)\n",
        "# !!! 千萬不要再做一次fit, fit:找出欄位有多少個\n",
        "x_test_count = vec.transform(x_test_cut)"
      ],
      "execution_count": 5,
      "outputs": []
    },
    {
      "cell_type": "code",
      "metadata": {
        "colab": {
          "base_uri": "https://localhost:8080/"
        },
        "id": "pRNeHlM-19M4",
        "outputId": "41b5e6cd-4359-4455-97f7-436cff7f3dd8"
      },
      "source": [
        "len(vec.vocabulary_)\n",
        "# 出現KeyError是對的\n",
        "# vec.vocabulary_[\"。\"]\n",
        "# vec.vocabulary_[\"\\r\\n\"]"
      ],
      "execution_count": 6,
      "outputs": [
        {
          "output_type": "execute_result",
          "data": {
            "text/plain": [
              "52294"
            ]
          },
          "metadata": {},
          "execution_count": 6
        }
      ]
    },
    {
      "cell_type": "code",
      "metadata": {
        "colab": {
          "base_uri": "https://localhost:8080/"
        },
        "id": "GD63f9Ov1to0",
        "outputId": "e74fc09a-c51a-4d6a-d41c-bbfbf168192b"
      },
      "source": [
        "# print(x_train_count)\n",
        "x_train_count"
      ],
      "execution_count": 7,
      "outputs": [
        {
          "output_type": "execute_result",
          "data": {
            "text/plain": [
              "<2731x52294 sparse matrix of type '<class 'numpy.int64'>'\n",
              "\twith 85677 stored elements in Compressed Sparse Row format>"
            ]
          },
          "metadata": {},
          "execution_count": 7
        }
      ]
    },
    {
      "cell_type": "code",
      "metadata": {
        "colab": {
          "base_uri": "https://localhost:8080/"
        },
        "id": "pjV7Ev7pROn2",
        "outputId": "a3bcea08-326a-42ed-c0d5-6b2b930e832d"
      },
      "source": [
        "from sklearn.naive_bayes import MultinomialNB\n",
        "clf = MultinomialNB(alpha=0.1)\n",
        "clf.fit(x_train_count, y_train)"
      ],
      "execution_count": 40,
      "outputs": [
        {
          "output_type": "execute_result",
          "data": {
            "text/plain": [
              "MultinomialNB(alpha=0.1, class_prior=None, fit_prior=True)"
            ]
          },
          "metadata": {},
          "execution_count": 40
        }
      ]
    },
    {
      "cell_type": "code",
      "metadata": {
        "colab": {
          "base_uri": "https://localhost:8080/"
        },
        "id": "DWIgyJ7eRmN-",
        "outputId": "0f1d7856-e8d5-4c8a-8de4-74863a25257b"
      },
      "source": [
        "from sklearn.metrics import accuracy_score\n",
        "pre = clf.predict(x_test_count)\n",
        "accuracy_score(pre, y_test)"
      ],
      "execution_count": 22,
      "outputs": [
        {
          "output_type": "execute_result",
          "data": {
            "text/plain": [
              "0.8333333333333334"
            ]
          },
          "metadata": {},
          "execution_count": 22
        }
      ]
    },
    {
      "cell_type": "code",
      "metadata": {
        "colab": {
          "base_uri": "https://localhost:8080/",
          "height": 143
        },
        "id": "mNnorvpUR5i-",
        "outputId": "85b7ffd8-31e1-4862-fab9-d9b0652f85c8"
      },
      "source": [
        "from sklearn.metrics import confusion_matrix\n",
        "mat = confusion_matrix(y_test, pre)\n",
        "pd.DataFrame(mat, \n",
        "             index=[a + \"(真)\" for a in artists],\n",
        "             columns=[a + \"(預測)\" for a in artists])"
      ],
      "execution_count": 23,
      "outputs": [
        {
          "output_type": "execute_result",
          "data": {
            "text/html": [
              "<div>\n",
              "<style scoped>\n",
              "    .dataframe tbody tr th:only-of-type {\n",
              "        vertical-align: middle;\n",
              "    }\n",
              "\n",
              "    .dataframe tbody tr th {\n",
              "        vertical-align: top;\n",
              "    }\n",
              "\n",
              "    .dataframe thead th {\n",
              "        text-align: right;\n",
              "    }\n",
              "</style>\n",
              "<table border=\"1\" class=\"dataframe\">\n",
              "  <thead>\n",
              "    <tr style=\"text-align: right;\">\n",
              "      <th></th>\n",
              "      <th>李白(預測)</th>\n",
              "      <th>杜甫(預測)</th>\n",
              "      <th>白居易(預測)</th>\n",
              "    </tr>\n",
              "  </thead>\n",
              "  <tbody>\n",
              "    <tr>\n",
              "      <th>李白(真)</th>\n",
              "      <td>8</td>\n",
              "      <td>1</td>\n",
              "      <td>1</td>\n",
              "    </tr>\n",
              "    <tr>\n",
              "      <th>杜甫(真)</th>\n",
              "      <td>0</td>\n",
              "      <td>9</td>\n",
              "      <td>1</td>\n",
              "    </tr>\n",
              "    <tr>\n",
              "      <th>白居易(真)</th>\n",
              "      <td>1</td>\n",
              "      <td>1</td>\n",
              "      <td>8</td>\n",
              "    </tr>\n",
              "  </tbody>\n",
              "</table>\n",
              "</div>"
            ],
            "text/plain": [
              "        李白(預測)  杜甫(預測)  白居易(預測)\n",
              "李白(真)        8       1        1\n",
              "杜甫(真)        0       9        1\n",
              "白居易(真)       1       1        8"
            ]
          },
          "metadata": {},
          "execution_count": 23
        }
      ]
    },
    {
      "cell_type": "code",
      "metadata": {
        "colab": {
          "base_uri": "https://localhost:8080/"
        },
        "id": "lAYageF-mf6d",
        "outputId": "7823f435-02d1-4f14-f8f1-c183810f7089"
      },
      "source": [
        "testp = input(\"請輸入要預測的詩:\")\n",
        "testpcut = [poemcut(testp)]\n",
        "testpcount = vec.transform(testpcut)\n",
        "proba = clf.predict_proba(testpcount)[0]\n",
        "for a, p in zip(artists, proba):\n",
        "    print(a, \"的機率:\", p)\n",
        "ans = clf.predict(testpcount)[0]\n",
        "print(\"這首詩:\", artists[ans])"
      ],
      "execution_count": 42,
      "outputs": [
        {
          "output_type": "stream",
          "name": "stdout",
          "text": [
            "請輸入要預測的詩:人群 煙火 香檳和氣球 是你 帶我 從派對逃走 逃離 人間 耳語和騷動 這裡 只有 你我和星空 你是 何時 靜靜靠近我 你是 何時 偷偷拯救我 在我 掌心 放了 一顆糖果  人類 為何 都愛看天空 背上 卻都 有一對傷口 生在 這個 凡人的星球 是否 不配 作天使的夢 你將 你的 翅膀給了我 帶我 穿越 狼群和鏡頭 讓我 能夠 品嚐 片刻自由  因為你 所以我 愛上那 片天空 天空下 我在祈求 那是你 牽著我 更多更詳盡歌詞 在 ※ Mojim.com　魔鏡歌詞網 最深刻 的故事 最永恆 的傳說 不過 是你 是我 能夠 平凡生活  因為你 所以我 所以我 不退縮 再不願 這一生中 有遺憾 不反駁 不再聽 別人說 不在乎 誰能懂 只因 世界 再大 不過 你和我 用最小回憶 堆成宇宙  人生 只是 須臾的剎那 人間 只是 天地的夾縫 人們 何苦 要活成修羅 活在 執著 對錯的牢籠 是你 幫我 停下了沙漏 是你 教我 別害怕闖禍 是你 讓我 活得 與眾不同\n",
            "李白 的機率: 0.00027672158532088855\n",
            "杜甫 的機率: 3.0423031903687626e-06\n",
            "白居易 的機率: 0.9997202361114758\n",
            "這首詩: 白居易\n"
          ]
        }
      ]
    }
  ]
}