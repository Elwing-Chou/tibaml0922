{
  "nbformat": 4,
  "nbformat_minor": 0,
  "metadata": {
    "colab": {
      "name": "poem.ipynb",
      "provenance": [],
      "authorship_tag": "ABX9TyOj0nReuUxrC02scK1iqBMK",
      "include_colab_link": true
    },
    "kernelspec": {
      "name": "python3",
      "display_name": "Python 3"
    },
    "language_info": {
      "name": "python"
    }
  },
  "cells": [
    {
      "cell_type": "markdown",
      "metadata": {
        "id": "view-in-github",
        "colab_type": "text"
      },
      "source": [
        "<a href=\"https://colab.research.google.com/github/Elwing-Chou/tibaml0922/blob/main/poem.ipynb\" target=\"_parent\"><img src=\"https://colab.research.google.com/assets/colab-badge.svg\" alt=\"Open In Colab\"/></a>"
      ]
    },
    {
      "cell_type": "code",
      "metadata": {
        "id": "a0Cczs34V97Z"
      },
      "source": [
        "from urllib.request import urlretrieve\n",
        "url = \"https://github.com/Elwing-Chou/tibaml0922/raw/main/poem_train.csv\"\n",
        "urlretrieve(url, \"train.csv\")\n",
        "url = \"https://github.com/Elwing-Chou/tibaml0922/raw/main/poem_test.csv\"\n",
        "urlretrieve(url, \"test.csv\")"
      ],
      "execution_count": null,
      "outputs": []
    },
    {
      "cell_type": "code",
      "metadata": {
        "id": "_NVUO06jWpAv"
      },
      "source": [
        "import pandas as pd\n",
        "train_df = pd.read_csv(\"train.csv\", encoding=\"utf-8\")\n",
        "test_df = pd.read_csv(\"test.csv\", encoding=\"utf-8\")"
      ],
      "execution_count": 2,
      "outputs": []
    },
    {
      "cell_type": "code",
      "metadata": {
        "colab": {
          "base_uri": "https://localhost:8080/"
        },
        "id": "eGkbLlU5sYvk",
        "outputId": "fa4b327b-a307-499a-c509-466efe2db4eb"
      },
      "source": [
        "import numpy as np\n",
        "# y: 0, 1, 2...\n",
        "# Series.replace({\"李白\":0, ...})\n",
        "# Series.unique()/Series.value_counts()\n",
        "artists = train_df[\"作者\"].unique()\n",
        "# artist2idx = {}\n",
        "# for i, a in enumerate(artists):\n",
        "#    artist2idx[a] = i\n",
        "artist2idx = {a:i for i, a in enumerate(artists)}\n",
        "idx2artist = {i:a for i, a in enumerate(artists)}\n",
        "y_train = np.array(train_df[\"作者\"].replace(artist2idx))\n",
        "y_test = np.array(test_df[\"作者\"].replace(artist2idx))\n",
        "y_test"
      ],
      "execution_count": 40,
      "outputs": [
        {
          "output_type": "execute_result",
          "data": {
            "text/plain": [
              "24.489795918367346"
            ]
          },
          "metadata": {},
          "execution_count": 40
        }
      ]
    },
    {
      "cell_type": "code",
      "metadata": {
        "id": "GCIds_yPwirL"
      },
      "source": [
        "import jieba\n",
        "# 因為古詩, 我才沒載入大辭典\n",
        "# Series.apply(函式名字)\n",
        "def poemcut(p):\n",
        "    return \" \".join(jieba.cut(p))\n",
        "x_train_cut = train_df[\"內容\"].apply(poemcut)\n",
        "x_test_cut = test_df[\"內容\"].apply(poemcut)\n",
        "x_train_cut"
      ],
      "execution_count": null,
      "outputs": []
    },
    {
      "cell_type": "code",
      "metadata": {
        "id": "pIeIsbXXzpSt"
      },
      "source": [
        "from sklearn.feature_extraction.text import CountVectorizer\n",
        "vec = CountVectorizer()\n",
        "x_train_count = vec.fit_transform(x_train_cut)\n",
        "# !!! 千萬不要再做一次fit, fit:找出欄位有多少個\n",
        "x_test_count = vec.transform(x_test_cut)"
      ],
      "execution_count": 62,
      "outputs": []
    },
    {
      "cell_type": "code",
      "metadata": {
        "colab": {
          "base_uri": "https://localhost:8080/"
        },
        "id": "pRNeHlM-19M4",
        "outputId": "42956fb5-88f8-42c5-d9bb-c3a7680d9975"
      },
      "source": [
        "len(vec.vocabulary_)\n",
        "# 出現KeyError是對的\n",
        "# vec.vocabulary_[\"。\"]\n",
        "# vec.vocabulary_[\"\\r\\n\"]"
      ],
      "execution_count": 63,
      "outputs": [
        {
          "output_type": "execute_result",
          "data": {
            "text/plain": [
              "52294"
            ]
          },
          "metadata": {},
          "execution_count": 63
        }
      ]
    },
    {
      "cell_type": "code",
      "metadata": {
        "colab": {
          "base_uri": "https://localhost:8080/"
        },
        "id": "GD63f9Ov1to0",
        "outputId": "596229ea-4a52-4e7d-cf2b-a3bd0ad2bb1d"
      },
      "source": [
        "# print(x_train_count)\n",
        "x_train_count"
      ],
      "execution_count": 64,
      "outputs": [
        {
          "output_type": "execute_result",
          "data": {
            "text/plain": [
              "<2731x52294 sparse matrix of type '<class 'numpy.int64'>'\n",
              "\twith 85677 stored elements in Compressed Sparse Row format>"
            ]
          },
          "metadata": {},
          "execution_count": 64
        }
      ]
    },
    {
      "cell_type": "code",
      "metadata": {
        "id": "bm0xjv0g3LS-"
      },
      "source": [
        "print(x_test_count)"
      ],
      "execution_count": null,
      "outputs": []
    }
  ]
}