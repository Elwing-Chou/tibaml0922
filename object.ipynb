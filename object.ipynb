{
  "nbformat": 4,
  "nbformat_minor": 0,
  "metadata": {
    "colab": {
      "name": "object.ipynb",
      "provenance": [],
      "authorship_tag": "ABX9TyMsj0MGUx9DirD1BeL1qGJd",
      "include_colab_link": true
    },
    "kernelspec": {
      "name": "python3",
      "display_name": "Python 3"
    },
    "language_info": {
      "name": "python"
    }
  },
  "cells": [
    {
      "cell_type": "markdown",
      "metadata": {
        "id": "view-in-github",
        "colab_type": "text"
      },
      "source": [
        "<a href=\"https://colab.research.google.com/github/Elwing-Chou/tibaml0922/blob/main/object.ipynb\" target=\"_parent\"><img src=\"https://colab.research.google.com/assets/colab-badge.svg\" alt=\"Open In Colab\"/></a>"
      ]
    },
    {
      "cell_type": "code",
      "metadata": {
        "colab": {
          "base_uri": "https://localhost:8080/"
        },
        "id": "E9Ckzrhod424",
        "outputId": "86656eb8-baf1-46a9-bd02-7197ae5f5bd7"
      },
      "source": [
        "# 物件導向: 自創一個你需要的型態\n",
        "# 型態: 1. attribute(屬性) p1.height\n",
        "#      2. method(專屬函式) \"abc\".replace(\"a\", \"b\")\n",
        "# __init__\n",
        "# https://docs.python.org/zh-tw/3/reference/datamodel.html#basic-customization\n",
        "class Person:\n",
        "    def __init__(self, h, w):\n",
        "        self.height = h\n",
        "        self.weight = w\n",
        "\n",
        "    def getbmi(self):\n",
        "        return self.weight / (self.height / 100) ** 2\n",
        "\n",
        "    def __str__(self):\n",
        "        return \"{}/{}\".format(self.height, self.weight)\n",
        "\n",
        "    def __eq__(self, other):\n",
        "        return self.height == other.height and self.weight == other.weight\n",
        "\n",
        "p1 = Person(175, 80)\n",
        "bmi = p1.getbmi()\n",
        "p2 = Person(175, 80)\n",
        "# print -> str(p2) -> p2.__str__()\n",
        "print(p2)\n",
        "# p1 == p2 -> p1.__eq__(p2)\n",
        "p1 == p2"
      ],
      "execution_count": null,
      "outputs": [
        {
          "output_type": "stream",
          "name": "stdout",
          "text": [
            "175/80\n"
          ]
        },
        {
          "output_type": "execute_result",
          "data": {
            "text/plain": [
              "True"
            ]
          },
          "metadata": {},
          "execution_count": 32
        }
      ]
    },
    {
      "cell_type": "code",
      "metadata": {
        "colab": {
          "base_uri": "https://localhost:8080/"
        },
        "id": "Pa0PerkoqtEP",
        "outputId": "7e5cb1b6-663b-4486-9f64-5b2030bfc107"
      },
      "source": [
        "# dic[\"height\"]\n",
        "# 函式也是一種型態:\n",
        "# 函式名字:dic (SOP) ():[] (執行)\n",
        "# 不加小括號: 跟int, str, list地位等價\n",
        "# 加小括號: 執行整份步驟\n",
        "b = int\n",
        "print(b(3.2))\n",
        "def test():\n",
        "    return int\n",
        "test()(3.2)"
      ],
      "execution_count": null,
      "outputs": [
        {
          "output_type": "stream",
          "name": "stdout",
          "text": [
            "3\n"
          ]
        },
        {
          "output_type": "execute_result",
          "data": {
            "text/plain": [
              "3"
            ]
          },
          "metadata": {},
          "execution_count": 38
        }
      ]
    },
    {
      "cell_type": "code",
      "metadata": {
        "colab": {
          "base_uri": "https://localhost:8080/"
        },
        "id": "eGkbLlU5sYvk",
        "outputId": "fa4b327b-a307-499a-c509-466efe2db4eb"
      },
      "source": [
        "c = Person\n",
        "p3 = c(175, 75)\n",
        "p3.getbmi()"
      ],
      "execution_count": null,
      "outputs": [
        {
          "output_type": "execute_result",
          "data": {
            "text/plain": [
              "24.489795918367346"
            ]
          },
          "metadata": {},
          "execution_count": 40
        }
      ]
    }
  ]
}