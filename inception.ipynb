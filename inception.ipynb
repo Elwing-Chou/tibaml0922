{
  "nbformat": 4,
  "nbformat_minor": 0,
  "metadata": {
    "colab": {
      "name": "inception.ipynb",
      "provenance": [],
      "authorship_tag": "ABX9TyOhPV51RRAS/1dg8HCjWEPR",
      "include_colab_link": true
    },
    "kernelspec": {
      "name": "python3",
      "display_name": "Python 3"
    },
    "language_info": {
      "name": "python"
    }
  },
  "cells": [
    {
      "cell_type": "markdown",
      "metadata": {
        "id": "view-in-github",
        "colab_type": "text"
      },
      "source": [
        "<a href=\"https://colab.research.google.com/github/Elwing-Chou/tibaml0922/blob/main/inception.ipynb\" target=\"_parent\"><img src=\"https://colab.research.google.com/assets/colab-badge.svg\" alt=\"Open In Colab\"/></a>"
      ]
    },
    {
      "cell_type": "code",
      "metadata": {
        "id": "yCX-ziE11xeW"
      },
      "source": [
        "from tensorflow.keras.applications.inception_v3 import InceptionV3\n",
        "model = InceptionV3(include_top=False, input_shape=(224, 224, 3))\n",
        "model.summary()"
      ],
      "execution_count": null,
      "outputs": []
    },
    {
      "cell_type": "code",
      "metadata": {
        "id": "7i2EBNfp2U7p"
      },
      "source": [
        "from tensorflow.keras.utils import plot_model\n",
        "plot_model(model, to_file=\"inception.png\", show_shapes=True)"
      ],
      "execution_count": null,
      "outputs": []
    },
    {
      "cell_type": "code",
      "metadata": {
        "colab": {
          "base_uri": "https://localhost:8080/"
        },
        "id": "C8t3Xl-z5TmV",
        "outputId": "af10ca1e-71f3-427a-c8da-80b7b8974e8e"
      },
      "source": [
        "# 右邊1: 1 x 1卷積(通道再組合)\n",
        "w = model.get_layer(\"conv2d_5\").get_weights()\n",
        "# (1, 1, 192, 64): 64過濾器, 192前一層通道數 (1, 1)卷積窗大小\n",
        "w[0].shape"
      ],
      "execution_count": 8,
      "outputs": [
        {
          "output_type": "execute_result",
          "data": {
            "text/plain": [
              "(1, 1, 192, 64)"
            ]
          },
          "metadata": {},
          "execution_count": 8
        }
      ]
    },
    {
      "cell_type": "code",
      "metadata": {
        "colab": {
          "base_uri": "https://localhost:8080/"
        },
        "id": "7ouPHwL46XXD",
        "outputId": "8717dd6b-cf43-47db-db62-e8a09e88be4f"
      },
      "source": [
        "# 右邊2: Average(模糊化) -> 1 x 1卷積(通道再組合)\n",
        "w = model.get_layer(\"conv2d_11\").get_weights()\n",
        "print(w[0].shape)"
      ],
      "execution_count": 9,
      "outputs": [
        {
          "output_type": "stream",
          "name": "stdout",
          "text": [
            "(1, 1, 192, 32)\n"
          ]
        }
      ]
    },
    {
      "cell_type": "code",
      "metadata": {
        "colab": {
          "base_uri": "https://localhost:8080/"
        },
        "id": "O8KUSW9s7uwt",
        "outputId": "5c0dc7c4-d462-4573-a3c5-4cc63db2f3ac"
      },
      "source": [
        "# 右邊3: 1 x 1卷積(48)[減少一下計算量] -> 5 x 5 卷積\n",
        "w = model.get_layer(\"conv2d_6\").get_weights()\n",
        "print(w[0].shape)\n",
        "# kernel: 5 x 5\n",
        "w = model.get_layer(\"conv2d_7\").get_weights()\n",
        "print(w[0].shape)"
      ],
      "execution_count": 11,
      "outputs": [
        {
          "output_type": "stream",
          "name": "stdout",
          "text": [
            "(1, 1, 192, 48)\n",
            "(5, 5, 48, 64)\n"
          ]
        }
      ]
    },
    {
      "cell_type": "code",
      "metadata": {
        "colab": {
          "base_uri": "https://localhost:8080/"
        },
        "id": "JFn0mpnI8I0-",
        "outputId": "e8263f5e-d94a-4fa4-fda2-6cf11655e08e"
      },
      "source": [
        "# 右邊4: 1 x 1卷積 -> 3 x 3卷積 -> 3 x 3卷積\n",
        "w = model.get_layer(\"conv2d_8\").get_weights()\n",
        "print(w[0].shape)\n",
        "w = model.get_layer(\"conv2d_9\").get_weights()\n",
        "print(w[0].shape)\n",
        "w = model.get_layer(\"conv2d_10\").get_weights()\n",
        "print(w[0].shape)"
      ],
      "execution_count": 12,
      "outputs": [
        {
          "output_type": "stream",
          "name": "stdout",
          "text": [
            "(1, 1, 192, 64)\n",
            "(3, 3, 64, 96)\n",
            "(3, 3, 96, 96)\n"
          ]
        }
      ]
    }
  ]
}